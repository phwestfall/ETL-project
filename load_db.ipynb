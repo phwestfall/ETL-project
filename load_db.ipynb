{
 "cells": [
  {
   "cell_type": "markdown",
   "metadata": {},
   "source": [
    "ETL Project \n",
    "---\n",
    "\n",
    "Found data on Mortality Rates in the United States from CDC.gov: https://wonder.cdc.gov/controller/datarequest/D140\n",
    "We decided to export this dataset based on:\n",
    "* County code\n",
    "* ICD Chapter (type of death)\n",
    "* death count\n",
    "* population of county\n",
    "\n",
    "The data exported as a txt file. Below I'm reading in the file to pandas like it is a csv, using \"\\t\" to indicate the tab delimited separations between the data cells."
   ]
  },
  {
   "cell_type": "code",
   "execution_count": 6,
   "metadata": {},
   "outputs": [],
   "source": [
    "#dependencies\n",
    "import pandas as pd"
   ]
  },
  {
   "cell_type": "code",
   "execution_count": 5,
   "metadata": {
    "scrolled": true
   },
   "outputs": [
    {
     "data": {
      "text/html": [
       "<div>\n",
       "<style scoped>\n",
       "    .dataframe tbody tr th:only-of-type {\n",
       "        vertical-align: middle;\n",
       "    }\n",
       "\n",
       "    .dataframe tbody tr th {\n",
       "        vertical-align: top;\n",
       "    }\n",
       "\n",
       "    .dataframe thead th {\n",
       "        text-align: right;\n",
       "    }\n",
       "</style>\n",
       "<table border=\"1\" class=\"dataframe\">\n",
       "  <thead>\n",
       "    <tr style=\"text-align: right;\">\n",
       "      <th></th>\n",
       "      <th>Notes</th>\n",
       "      <th>County</th>\n",
       "      <th>County Code</th>\n",
       "      <th>ICD Chapter</th>\n",
       "      <th>ICD Chapter Code</th>\n",
       "      <th>Deaths</th>\n",
       "      <th>Population</th>\n",
       "      <th>Crude Rate</th>\n",
       "      <th>% of Total Deaths</th>\n",
       "    </tr>\n",
       "  </thead>\n",
       "  <tbody>\n",
       "    <tr>\n",
       "      <th>0</th>\n",
       "      <td>NaN</td>\n",
       "      <td>Autauga County, AL</td>\n",
       "      <td>1001.0</td>\n",
       "      <td>Certain infectious and parasitic diseases</td>\n",
       "      <td>A00-B99</td>\n",
       "      <td>211.0</td>\n",
       "      <td>918492.0</td>\n",
       "      <td>23.0</td>\n",
       "      <td>0.0%</td>\n",
       "    </tr>\n",
       "    <tr>\n",
       "      <th>1</th>\n",
       "      <td>NaN</td>\n",
       "      <td>Autauga County, AL</td>\n",
       "      <td>1001.0</td>\n",
       "      <td>Neoplasms</td>\n",
       "      <td>C00-D48</td>\n",
       "      <td>1771.0</td>\n",
       "      <td>918492.0</td>\n",
       "      <td>192.8</td>\n",
       "      <td>0.0%</td>\n",
       "    </tr>\n",
       "    <tr>\n",
       "      <th>2</th>\n",
       "      <td>NaN</td>\n",
       "      <td>Autauga County, AL</td>\n",
       "      <td>1001.0</td>\n",
       "      <td>Diseases of the blood and blood-forming organs...</td>\n",
       "      <td>D50-D89</td>\n",
       "      <td>44.0</td>\n",
       "      <td>918492.0</td>\n",
       "      <td>4.8</td>\n",
       "      <td>0.0%</td>\n",
       "    </tr>\n",
       "    <tr>\n",
       "      <th>3</th>\n",
       "      <td>NaN</td>\n",
       "      <td>Autauga County, AL</td>\n",
       "      <td>1001.0</td>\n",
       "      <td>Endocrine, nutritional and metabolic diseases</td>\n",
       "      <td>E00-E88</td>\n",
       "      <td>354.0</td>\n",
       "      <td>918492.0</td>\n",
       "      <td>38.5</td>\n",
       "      <td>0.0%</td>\n",
       "    </tr>\n",
       "    <tr>\n",
       "      <th>4</th>\n",
       "      <td>NaN</td>\n",
       "      <td>Autauga County, AL</td>\n",
       "      <td>1001.0</td>\n",
       "      <td>Mental and behavioural disorders</td>\n",
       "      <td>F01-F99</td>\n",
       "      <td>218.0</td>\n",
       "      <td>918492.0</td>\n",
       "      <td>23.7</td>\n",
       "      <td>0.0%</td>\n",
       "    </tr>\n",
       "  </tbody>\n",
       "</table>\n",
       "</div>"
      ],
      "text/plain": [
       "  Notes              County  County Code  \\\n",
       "0   NaN  Autauga County, AL       1001.0   \n",
       "1   NaN  Autauga County, AL       1001.0   \n",
       "2   NaN  Autauga County, AL       1001.0   \n",
       "3   NaN  Autauga County, AL       1001.0   \n",
       "4   NaN  Autauga County, AL       1001.0   \n",
       "\n",
       "                                         ICD Chapter ICD Chapter Code  Deaths  \\\n",
       "0          Certain infectious and parasitic diseases          A00-B99   211.0   \n",
       "1                                          Neoplasms          C00-D48  1771.0   \n",
       "2  Diseases of the blood and blood-forming organs...          D50-D89    44.0   \n",
       "3      Endocrine, nutritional and metabolic diseases          E00-E88   354.0   \n",
       "4                   Mental and behavioural disorders          F01-F99   218.0   \n",
       "\n",
       "   Population Crude Rate % of Total Deaths  \n",
       "0    918492.0       23.0              0.0%  \n",
       "1    918492.0      192.8              0.0%  \n",
       "2    918492.0        4.8              0.0%  \n",
       "3    918492.0       38.5              0.0%  \n",
       "4    918492.0       23.7              0.0%  "
      ]
     },
     "execution_count": 5,
     "metadata": {},
     "output_type": "execute_result"
    }
   ],
   "source": [
    "data = pd.read_csv('Deaths.txt', sep=\"\\t\",)\n",
    "data.head()"
   ]
  },
  {
   "cell_type": "code",
   "execution_count": null,
   "metadata": {},
   "outputs": [],
   "source": []
  }
 ],
 "metadata": {
  "kernelspec": {
   "display_name": "Python 3",
   "language": "python",
   "name": "python3"
  },
  "language_info": {
   "codemirror_mode": {
    "name": "ipython",
    "version": 3
   },
   "file_extension": ".py",
   "mimetype": "text/x-python",
   "name": "python",
   "nbconvert_exporter": "python",
   "pygments_lexer": "ipython3",
   "version": "3.6.7"
  }
 },
 "nbformat": 4,
 "nbformat_minor": 2
}
